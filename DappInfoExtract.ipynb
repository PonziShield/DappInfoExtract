{
 "cells": [
  {
   "cell_type": "code",
   "execution_count": 30,
   "metadata": {},
   "outputs": [
    {
     "data": {
      "text/plain": [
       "True"
      ]
     },
     "execution_count": 30,
     "metadata": {},
     "output_type": "execute_result"
    }
   ],
   "source": [
    "import os\n",
    "from dotenv import load_dotenv\n",
    "import requests\n",
    "from web3 import Web3, HTTPProvider\n",
    "\n",
    "# Load .env file\n",
    "load_dotenv()"
   ]
  },
  {
   "cell_type": "code",
   "execution_count": 16,
   "metadata": {},
   "outputs": [],
   "source": [
    "# Use etherscan api to extract contract constructor name\n",
    "def get_contract_name(address):\n",
    "        etherscan_api_key = os.getenv('ETHERSCAN_API_KEY')\n",
    "        etherscan_url = f'https://api.etherscan.io/api?module=contract&action=getsourcecode&address={address}&apikey={etherscan_api_key}'\n",
    "        # use the etherscan api to get the token name from contract address\n",
    "        \n",
    "        try:\n",
    "            response = requests.get(etherscan_url)\n",
    "            data = response.json()\n",
    "            if data.get('status') == '1' and data.get('result'):\n",
    "                contract_name = data['result'][0]['ContractName']\n",
    "                return contract_name\n",
    "            else:\n",
    "                return \"Contract name not found\"\n",
    "        except Exception as e:\n",
    "            return f\"Error fetching contract name: {str(e)}\""
   ]
  },
  {
   "cell_type": "code",
   "execution_count": 17,
   "metadata": {},
   "outputs": [
    {
     "name": "stdout",
     "output_type": "stream",
     "text": [
      "Doubler\n"
     ]
    }
   ],
   "source": [
    "contract_address = '0xdc84953d7c6448e498eb3c33ab0f815da5d13999'\n",
    "\n",
    "contract_name = get_contract_name(contract_address)\n",
    "print(contract_name)"
   ]
  },
  {
   "cell_type": "code",
   "execution_count": 34,
   "metadata": {},
   "outputs": [],
   "source": [
    "def get_token_name_and_symbol(address):\n",
    "    etherscan_api_key = os.getenv('ETHERSCAN_API_KEY')\n",
    "    etherscan_url = f'https://api.etherscan.io/api?module=contract&action=getsourcecode&address={address}&apikey={etherscan_api_key}'\n",
    "\n",
    "    try:\n",
    "        infura_api_key = os.getenv('INFURA_API_KEY')\n",
    "        response = requests.get(etherscan_url)\n",
    "        data = response.json()\n",
    "        if data.get('status') == '1' and data.get('result'):\n",
    "            contract_abi = data['result'][0]['ABI']\n",
    "            contract_address = address  # Address of the deployed contract\n",
    "\n",
    "            # Connect to the Ethereum network using Web3\n",
    "            web3 = Web3(HTTPProvider(f'https://mainnet.infura.io/v3/{infura_api_key}'))  # Replace with your Infura project ID\n",
    "\n",
    "            # Create a contract instance\n",
    "            contract = web3.eth.contract(address=contract_address, abi=contract_abi)\n",
    "\n",
    "            # Call the 'name' function of the ERC20 contract to get the token name\n",
    "            token_name = contract.functions.name().call()\n",
    "            token_symbol = contract.functions.symbol().call()\n",
    "\n",
    "            return token_name, token_symbol\n",
    "        else:\n",
    "            return \"Token name not found\"\n",
    "    except Exception as e:\n",
    "        return f\"Error fetching token name: {str(e)}\""
   ]
  },
  {
   "cell_type": "code",
   "execution_count": 36,
   "metadata": {},
   "outputs": [],
   "source": [
    "contract_address = '0x96184d9C811Ea0624fC30C80233B1d749B9E485B'\n",
    "token_name, token_symbol = get_token_name_and_symbol(contract_address)\n",
    "contract_name = get_contract_name(contract_address)"
   ]
  },
  {
   "cell_type": "code",
   "execution_count": 38,
   "metadata": {},
   "outputs": [
    {
     "name": "stdout",
     "output_type": "stream",
     "text": [
      "token_name: Dapp Token\n",
      "token_symbol: DAPPT\n",
      "contract_name: BaseToken\n"
     ]
    }
   ],
   "source": [
    "print(f'token_name: {token_name}')\n",
    "print(f'token_symbol: {token_symbol}')\n",
    "print(f'contract_name: {contract_name}')"
   ]
  },
  {
   "cell_type": "code",
   "execution_count": null,
   "metadata": {},
   "outputs": [],
   "source": []
  }
 ],
 "metadata": {
  "kernelspec": {
   "display_name": "fyp",
   "language": "python",
   "name": "python3"
  },
  "language_info": {
   "codemirror_mode": {
    "name": "ipython",
    "version": 3
   },
   "file_extension": ".py",
   "mimetype": "text/x-python",
   "name": "python",
   "nbconvert_exporter": "python",
   "pygments_lexer": "ipython3",
   "version": "3.10.12"
  }
 },
 "nbformat": 4,
 "nbformat_minor": 2
}
